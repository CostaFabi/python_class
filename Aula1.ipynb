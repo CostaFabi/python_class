{
  "nbformat": 4,
  "nbformat_minor": 0,
  "metadata": {
    "colab": {
      "name": "Aula1.ipynb",
      "version": "0.3.2",
      "provenance": [],
      "collapsed_sections": [],
      "include_colab_link": true
    },
    "kernelspec": {
      "name": "python3",
      "display_name": "Python 3"
    }
  },
  "cells": [
    {
      "cell_type": "markdown",
      "metadata": {
        "id": "view-in-github",
        "colab_type": "text"
      },
      "source": [
        "<a href=\"https://colab.research.google.com/github/fayecosta/python_class/blob/master/Aula1.ipynb\" target=\"_parent\"><img src=\"https://colab.research.google.com/assets/colab-badge.svg\" alt=\"Open In Colab\"/></a>"
      ]
    },
    {
      "metadata": {
        "id": "XasTgVjUOUkV",
        "colab_type": "code",
        "colab": {
          "base_uri": "https://localhost:8080/",
          "height": 35
        },
        "outputId": "ef38b872-ff33-4d0c-cda7-a41cf292fcf7"
      },
      "cell_type": "code",
      "source": [
        "print(\"hi\")"
      ],
      "execution_count": 2,
      "outputs": [
        {
          "output_type": "stream",
          "text": [
            "hi\n"
          ],
          "name": "stdout"
        }
      ]
    },
    {
      "metadata": {
        "id": "gOJ75QYlOjkc",
        "colab_type": "code",
        "colab": {
          "base_uri": "https://localhost:8080/",
          "height": 35
        },
        "outputId": "a543a736-c266-4521-adc5-3f55497d17ca"
      },
      "cell_type": "code",
      "source": [
        "l = [2, 3, 10, 16, 19, 20 , 30]\n",
        "sum(l)"
      ],
      "execution_count": 9,
      "outputs": [
        {
          "output_type": "execute_result",
          "data": {
            "text/plain": [
              "100"
            ]
          },
          "metadata": {
            "tags": []
          },
          "execution_count": 9
        }
      ]
    },
    {
      "metadata": {
        "id": "wqm39n92SG2Z",
        "colab_type": "code",
        "colab": {
          "base_uri": "https://localhost:8080/",
          "height": 35
        },
        "outputId": "af7007bd-aeba-42d1-e67f-009a1e623db4"
      },
      "cell_type": "code",
      "source": [
        "achei16 = 16 in l\n",
        "if (achei16):\n",
        "  print(\"achei\")\n",
        "\n",
        "else:\n",
        "  print(\"nao achei\")"
      ],
      "execution_count": 15,
      "outputs": [
        {
          "output_type": "stream",
          "text": [
            "achei\n"
          ],
          "name": "stdout"
        }
      ]
    },
    {
      "metadata": {
        "id": "JCkv6b6YS6XL",
        "colab_type": "code",
        "colab": {
          "base_uri": "https://localhost:8080/",
          "height": 35
        },
        "outputId": "255f9e1e-f4a5-4745-8d23-af6917e14580"
      },
      "cell_type": "code",
      "source": [
        "l.index(20)"
      ],
      "execution_count": 11,
      "outputs": [
        {
          "output_type": "execute_result",
          "data": {
            "text/plain": [
              "5"
            ]
          },
          "metadata": {
            "tags": []
          },
          "execution_count": 11
        }
      ]
    },
    {
      "metadata": {
        "id": "RVXWjmpvTtWG",
        "colab_type": "code",
        "colab": {
          "base_uri": "https://localhost:8080/",
          "height": 53
        },
        "outputId": "679bfad3-d2b8-47f9-f996-1905e7df8c27"
      },
      "cell_type": "code",
      "source": [
        "v = 19\n",
        "try:\n",
        "  l.index(v)\n",
        "  print(l.index(v))\n",
        "except(ValueError):\n",
        "  print(\"Valor nao encontrado\")\n",
        "\n",
        "print(\"ola\")"
      ],
      "execution_count": 25,
      "outputs": [
        {
          "output_type": "stream",
          "text": [
            "4\n",
            "ola\n"
          ],
          "name": "stdout"
        }
      ]
    },
    {
      "metadata": {
        "id": "i39C6c7kXB3g",
        "colab_type": "code",
        "colab": {
          "base_uri": "https://localhost:8080/",
          "height": 35
        },
        "outputId": "5c5a9f0d-6669-4b68-a65a-9c95b7abce41"
      },
      "cell_type": "code",
      "source": [
        "dicionario = {\"aluno 1 \": [8.0, 6.0], \"aluno 2\": [4.0, 3.0]}\n",
        "dicionario"
      ],
      "execution_count": 27,
      "outputs": [
        {
          "output_type": "execute_result",
          "data": {
            "text/plain": [
              "{'aluno 1 ': [8.0, 6.0], 'aluno 2': [4.0, 3.0]}"
            ]
          },
          "metadata": {
            "tags": []
          },
          "execution_count": 27
        }
      ]
    },
    {
      "metadata": {
        "id": "HQ--QTvNYAf_",
        "colab_type": "code",
        "colab": {
          "base_uri": "https://localhost:8080/",
          "height": 35
        },
        "outputId": "9f5e95a9-14c5-49f3-ea49-43b5b848008f"
      },
      "cell_type": "code",
      "source": [
        "dicionario[\"aluno 2\"]"
      ],
      "execution_count": 28,
      "outputs": [
        {
          "output_type": "execute_result",
          "data": {
            "text/plain": [
              "[4.0, 3.0]"
            ]
          },
          "metadata": {
            "tags": []
          },
          "execution_count": 28
        }
      ]
    },
    {
      "metadata": {
        "id": "b9Z1ihCkYab2",
        "colab_type": "code",
        "colab": {
          "base_uri": "https://localhost:8080/",
          "height": 35
        },
        "outputId": "4af83f13-5fff-424e-dcbc-f24ee7156813"
      },
      "cell_type": "code",
      "source": [
        "\"aluno 2\" in dicionario"
      ],
      "execution_count": 29,
      "outputs": [
        {
          "output_type": "execute_result",
          "data": {
            "text/plain": [
              "True"
            ]
          },
          "metadata": {
            "tags": []
          },
          "execution_count": 29
        }
      ]
    },
    {
      "metadata": {
        "id": "8yt7S9R_ZPY2",
        "colab_type": "code",
        "colab": {
          "base_uri": "https://localhost:8080/",
          "height": 35
        },
        "outputId": "79ecbba3-d47c-4391-ee65-9a5ad677d303"
      },
      "cell_type": "code",
      "source": [
        "notas = {\n",
        "  \"Fulano\": 2.0,\n",
        "  \"Ciclano\": 3.0,\n",
        "  \"Beltrano\": 4.0,\n",
        "}\n",
        "\n",
        "try:\n",
        "  print(notas[\"Beto\"])\n",
        "except KeyError:\n",
        "  print(\"Not Found\")"
      ],
      "execution_count": 32,
      "outputs": [
        {
          "output_type": "stream",
          "text": [
            "Not Found\n"
          ],
          "name": "stdout"
        }
      ]
    },
    {
      "metadata": {
        "id": "9spA777paItr",
        "colab_type": "code",
        "colab": {
          "base_uri": "https://localhost:8080/",
          "height": 35
        },
        "outputId": "e4bacae4-753e-4d4b-9271-9d2f8f9f2c34"
      },
      "cell_type": "code",
      "source": [
        "try:\n",
        "  print(notas[\"Ciclano\"])\n",
        "except KeyError:\n",
        "  print(\"Not Found\")"
      ],
      "execution_count": 33,
      "outputs": [
        {
          "output_type": "stream",
          "text": [
            "3.0\n"
          ],
          "name": "stdout"
        }
      ]
    },
    {
      "metadata": {
        "id": "qBS_tmUxaZBD",
        "colab_type": "code",
        "colab": {
          "base_uri": "https://localhost:8080/",
          "height": 35
        },
        "outputId": "5dc6e879-a600-4c34-a7c6-667cc0f3a755"
      },
      "cell_type": "code",
      "source": [
        "tupla = (1, 2)\n",
        "type(tupla)"
      ],
      "execution_count": 35,
      "outputs": [
        {
          "output_type": "execute_result",
          "data": {
            "text/plain": [
              "tuple"
            ]
          },
          "metadata": {
            "tags": []
          },
          "execution_count": 35
        }
      ]
    },
    {
      "metadata": {
        "id": "DyMF-5TTaxyk",
        "colab_type": "code",
        "colab": {
          "base_uri": "https://localhost:8080/",
          "height": 35
        },
        "outputId": "900e987a-7f50-4a80-bc9f-f1a8685bd834"
      },
      "cell_type": "code",
      "source": [
        "conjunto = {2, 3, 5, 6, 5}\n",
        "conjunto"
      ],
      "execution_count": 37,
      "outputs": [
        {
          "output_type": "execute_result",
          "data": {
            "text/plain": [
              "{2, 3, 5, 6}"
            ]
          },
          "metadata": {
            "tags": []
          },
          "execution_count": 37
        }
      ]
    },
    {
      "metadata": {
        "id": "0W2b7nlJbgit",
        "colab_type": "code",
        "colab": {
          "base_uri": "https://localhost:8080/",
          "height": 35
        },
        "outputId": "d53078c4-a176-4359-cb8d-9fd936cd51e0"
      },
      "cell_type": "code",
      "source": [
        "l"
      ],
      "execution_count": 38,
      "outputs": [
        {
          "output_type": "execute_result",
          "data": {
            "text/plain": [
              "[2, 3, 4, 10, 12, 33, 100, 28]"
            ]
          },
          "metadata": {
            "tags": []
          },
          "execution_count": 38
        }
      ]
    },
    {
      "metadata": {
        "id": "n8q4jLpbb2Rm",
        "colab_type": "code",
        "colab": {
          "base_uri": "https://localhost:8080/",
          "height": 35
        },
        "outputId": "f619ba5b-2f89-452a-e367-a1b9b0f83dbf"
      },
      "cell_type": "code",
      "source": [
        "l.append(24)\n",
        "l.append(13)\n",
        "l"
      ],
      "execution_count": 39,
      "outputs": [
        {
          "output_type": "execute_result",
          "data": {
            "text/plain": [
              "[2, 3, 4, 10, 12, 33, 100, 28, 24, 13]"
            ]
          },
          "metadata": {
            "tags": []
          },
          "execution_count": 39
        }
      ]
    },
    {
      "metadata": {
        "id": "R1L03rJob79-",
        "colab_type": "code",
        "colab": {
          "base_uri": "https://localhost:8080/",
          "height": 35
        },
        "outputId": "72ba7d92-4a29-428e-c2d9-0bdd02945a9a"
      },
      "cell_type": "code",
      "source": [
        "conjunto2 = set(l)\n",
        "conjunto2"
      ],
      "execution_count": 40,
      "outputs": [
        {
          "output_type": "execute_result",
          "data": {
            "text/plain": [
              "{2, 3, 4, 10, 12, 13, 24, 28, 33, 100}"
            ]
          },
          "metadata": {
            "tags": []
          },
          "execution_count": 40
        }
      ]
    },
    {
      "metadata": {
        "id": "K4ohZkbncKuz",
        "colab_type": "code",
        "colab": {
          "base_uri": "https://localhost:8080/",
          "height": 35
        },
        "outputId": "f698a7fb-223c-4dea-f8be-322e9bc65827"
      },
      "cell_type": "code",
      "source": [
        "type(conjunto)"
      ],
      "execution_count": 41,
      "outputs": [
        {
          "output_type": "execute_result",
          "data": {
            "text/plain": [
              "set"
            ]
          },
          "metadata": {
            "tags": []
          },
          "execution_count": 41
        }
      ]
    },
    {
      "metadata": {
        "id": "uK49k89Zcd_l",
        "colab_type": "code",
        "colab": {
          "base_uri": "https://localhost:8080/",
          "height": 35
        },
        "outputId": "476b4ec5-5e27-4a3a-f404-4e97dce40bed"
      },
      "cell_type": "code",
      "source": [
        "2 in conjunto2"
      ],
      "execution_count": 42,
      "outputs": [
        {
          "output_type": "execute_result",
          "data": {
            "text/plain": [
              "True"
            ]
          },
          "metadata": {
            "tags": []
          },
          "execution_count": 42
        }
      ]
    },
    {
      "metadata": {
        "id": "VER_FKomcpUj",
        "colab_type": "code",
        "colab": {}
      },
      "cell_type": "code",
      "source": [
        ""
      ],
      "execution_count": 0,
      "outputs": []
    }
  ]
}